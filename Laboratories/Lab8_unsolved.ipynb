{
 "cells": [
  {
   "attachments": {},
   "cell_type": "markdown",
   "metadata": {},
   "source": [
    "# Lab 8: Evolutionary computation\n",
    "\n",
    "### Consider the following example:\n",
    "\n",
    "Determine the minimum of the function $f(x)= x_1^2+...+x_n^2$ with $x_i \\in [-5.12, 5.12]$, $i \\in \\overline{(1, n)}$\n",
    "\n",
    "We have an example of steady state genetic algorithm with:  representation an array of real numbers; 100 individuals; crossover $$child = \\alpha \\cdot (parent1 - parent2) + parent2 ;$$ mutation - reinitialise on a random position the individual's value."
   ]
  },
  {
   "cell_type": "code",
   "execution_count": 19,
   "metadata": {},
   "outputs": [
    {
     "name": "stdout",
     "output_type": "stream",
     "text": [
      "Result: The detected minimum point after 10000 iterations is f(0.00 -0.00) = 0.00\n"
     ]
    }
   ],
   "source": [
    "\n",
    "\n",
    "from random import randint, random\n",
    "from operator import add\n",
    "from math import cos, pi\n",
    "\n",
    "\n",
    "def individual(length, vmin, vmax):\n",
    "    '''\n",
    "    Create a member of the population - an individual\n",
    "\n",
    "    length: the number of genes (components)\n",
    "    vmin: the minimum possible value \n",
    "    vmax: the maximum possible value \n",
    "    '''\n",
    "    return [ (random()*(vmax-vmin)+vmin) for x in range(length) ]\n",
    "    \n",
    "def population(count, length, vmin, vmax):\n",
    "    \"\"\"\n",
    "    Create a number of individuals (i.e. a population).\n",
    "\n",
    "    count: the number of individuals in the population\n",
    "    length: the number of values per individual\n",
    "    vmin: the minimum possible value \n",
    "    vmax: the maximum possible value \n",
    "    \"\"\"\n",
    "    return [ individual(length, vmin, vmax) for x in range(count) ]\n",
    "\n",
    "def fitness(individual):\n",
    "    \"\"\"\n",
    "    Determine the fitness of an individual. Lower is better.(min problem)\n",
    "    For this problem we have the Rastrigin function -NO, WE ACTUALLY HAVE THE SPEHERE FUNCTION, MR TEACHER, THIS IS NOT THE RASTRIGIN FUNCTION\n",
    "    \n",
    "    individual: the individual to evaluate\n",
    "    \"\"\"\n",
    "    n=len(individual)\n",
    "    f=0;\n",
    "    for i in range(n):\n",
    "        f=f+individual[i]*individual[i]\n",
    "    return f\n",
    "    \n",
    "def mutate(individual, pM, vmin, vmax): \n",
    "    '''\n",
    "    Performs a mutation on an individual with the probability of pM.\n",
    "    If the event will take place, at a random position a new value will be\n",
    "    generated in the interval [vmin, vmax]\n",
    "\n",
    "    individual:the individual to be mutated\n",
    "    pM: the probability the mutation to occure\n",
    "    vmin: the minimum possible value \n",
    "    vmax: the maximum possible value\n",
    "    '''\n",
    "    if pM > random():\n",
    "            p = randint(0, len(individual)-1)\n",
    "            individual[p] = random()*(vmax-vmin)+vmin\n",
    "    return individual\n",
    "    \n",
    "def crossover(parent1, parent2):\n",
    "    '''\n",
    "    crossover between 2 parents\n",
    "    '''\n",
    "    child=[]\n",
    "    alpha=random()\n",
    "    for x in range(len(parent1)):\n",
    "        child.append(alpha*(parent1[x]-parent2[x])+parent2[x])\n",
    "    return child\n",
    "\n",
    "def iteration(pop, pM, vmin, vmax):\n",
    "    '''\n",
    "    an iteration\n",
    "\n",
    "    pop: the current population\n",
    "    pM: the probability the mutation to occure\n",
    "    vmin: the minimum possible value \n",
    "    vmax: the maximum possible value\n",
    "    '''\n",
    "    i1=randint(0,len(pop)-1)\n",
    "    i2=randint(0,len(pop)-1)\n",
    "    if (i1!=i2):\n",
    "        c=crossover(pop[i1],pop[i2])\n",
    "        c=mutate(c, pM, vmin, vmax)\n",
    "        f1=fitness(pop[i1])\n",
    "        f2=fitness(pop[i2])\n",
    "        '''\n",
    "        the repeated evaluation of the parents can be avoided\n",
    "        if  next to the values stored in the individuals we \n",
    "        keep also their fitnesses \n",
    "        '''\n",
    "        fc=fitness(c)\n",
    "        if(f1>f2) and (f1>fc):\n",
    "            pop[i1]=c\n",
    "        if(f2>f1) and (f2>fc):\n",
    "            pop[i2]=c\n",
    "    return pop\n",
    "\n",
    "def main(noIteratii=10000):\n",
    "    #PARAMETERS:\n",
    "    \n",
    "    #population size\n",
    "    dimPopulation = 100\n",
    "    #individual size\n",
    "    dimIndividual = 2\n",
    "    #the boundries of the search interval\n",
    "    vmin = -5.12\n",
    "    vmax = 5.12\n",
    "    #the mutation probability\n",
    "    pM=0.01\n",
    "    \n",
    "    P = population(dimPopulation, dimIndividual, vmin, vmax)\n",
    "    for i in range(noIteratii):\n",
    "        P = iteration(P, pM, vmin, vmax)\n",
    "\n",
    "    #print the best individual\n",
    "    graded = [ (fitness(x), x) for x in P]\n",
    "    graded =  sorted(graded)\n",
    "    result=graded[0]\n",
    "    fitnessOptim=result[0]\n",
    "    individualOptim=result[1]\n",
    "    print('Result: The detected minimum point after %d iterations is f(%3.2f %3.2f) = %3.2f'% \\\n",
    "          (noIteratii,individualOptim[0],individualOptim[1], fitnessOptim) )\n",
    "        \n",
    "main()"
   ]
  },
  {
   "attachments": {},
   "cell_type": "markdown",
   "metadata": {},
   "source": [
    "Exercise 1:  Construct a similar algorithm to the one provided as an example for the Bukin function N.6 (search the internet for this function).\n"
   ]
  },
  {
   "cell_type": "code",
   "execution_count": 20,
   "metadata": {},
   "outputs": [],
   "source": [
    "# your code here\n",
    "from math import sqrt\n"
   ]
  },
  {
   "cell_type": "code",
   "execution_count": 21,
   "metadata": {},
   "outputs": [],
   "source": [
    "#LENGTH: This parameter specifies the number of genes (or components) the individual will have. For the Bukin function N.6, this would be 2, since it \n",
    "#is a two-dimensional function. (takes 2 param, x and y)\n",
    "#VMIN AND VMAX:  These parameters are lists or arrays that define the minimum and maximum values for each gene, \n",
    "# For the Bukin function N.6, you would have vmin = [-15, -3] and vmax = [-5, 3] to represent the search domain constraints of the function.\n",
    "# X ∈[−15,−5] and \n",
    "# Y ∈[−3,3], define the region in the two-dimensional space where the function is typically evaluated. These constraints were chosen because they \n",
    "#encompass the area of interest where the function's behavior is most relevant for optimization tests, particularly where its many local minima and the \n",
    "#global minimum are located​​.\n",
    "# Yes, that's correct. The search domains for the Bukin function N.6 are predefined as \n",
    "# X ∈[−15,−5] and \n",
    "# Y ∈[−3,3]. When using this function as a benchmark in optimization algorithms, researchers and practitioners use these specific domains to ensure\n",
    "# consistency across experiments and to make meaningful comparisons between different optimization strategies. It's important for benchmarking purposes\n",
    "# that everyone uses the same domains, as this allows for a standardized assessment of the algorithms' performance.\n",
    "#how we calculate the random number for a gene: \n",
    "# \n",
    "#how the value of a gene is computed:\n",
    "# Generate a random number, say 0.5.\n",
    "# Scale this number: 0.5 * (0 - (-10)) = 5.\n",
    "# Offset this number: 5 + (-10) = -5.\n",
    "# Thus, the result is -5, which lies within the specified range of -10 to 0., so it means here vmax=0 and vmin=10. vmin and vmax are intervals,\n",
    "#but when we compute the values of all genes (for i in range to length_is_nr_of_genes), the equation takes the param vmax[i] and vmin[i], meaning\n",
    "#one value from each interval, the ith value. \n",
    "#so an individual will be a list of gene values, if length=dimIndividual=2, then he will have 2 genes.\n",
    "#in this example we will take it to be 2 because our Bukin function takes only 2 parameters, so we only need 2 genes\n",
    "\n",
    "def individual_bukin(length, vmin, vmax):\n",
    "    return [ random()*(vmax[i]-vmin[i])+vmin[i] for i in range(length) ]"
   ]
  },
  {
   "cell_type": "code",
   "execution_count": 22,
   "metadata": {},
   "outputs": [],
   "source": [
    "def population_bukin(count, length, vmin, vmax):\n",
    "    return [ individual_bukin(length, vmin, vmax) for _ in range(count) ]"
   ]
  },
  {
   "cell_type": "code",
   "execution_count": 23,
   "metadata": {},
   "outputs": [],
   "source": [
    "def fitness_bukin(individual):\n",
    "    \"\"\"\n",
    "    Determine the fitness of an individual. Lower is better.\n",
    "    For this problem we have the Bukin function N.6\n",
    "    \"\"\"\n",
    "    x = individual[0]\n",
    "    y = individual[1]\n",
    "    f = 100 * sqrt(abs(y - 0.01*x*x)) + 0.01 * abs(x+10)  #THIS IS THE FUNCTION\n",
    "    return f"
   ]
  },
  {
   "cell_type": "code",
   "execution_count": 24,
   "metadata": {},
   "outputs": [],
   "source": [
    "def mutate_bukin(individual, pM, vmin, vmax): \n",
    "    if pM > random():  #pM=mutation probability\n",
    "        p = randint(0, len(individual)-1) #chooses randomly the gene to be mutaded (len(individual) is nr of genes of his)\n",
    "        individual[p] = random()*(vmax[p]-vmin[p])+vmin[p]  #changes the value of that gene to a new random one\n",
    "    return individual"
   ]
  },
  {
   "cell_type": "code",
   "execution_count": 25,
   "metadata": {},
   "outputs": [],
   "source": [
    "# The formula used in the crossover function is:\n",
    "# new gene=α×parent1[x]+(1−α)×parent2[x]\n",
    "# Here's what happens step by step:\n",
    "# Alpha Calculation:\n",
    "# alpha is a randomly generated number between 0 and 1. This determines the proportion of the gene value that will be taken from parent1.\n",
    "# Computation of Contribution from Parent1:\n",
    "# For each gene x, you multiply the gene value of parent1 at position x by alpha. This scales the gene value of parent1 according to how much influence\n",
    "#you want it to have on the offspring. If alpha is closer to 1, the offspring's gene at position x will be more similar to the corresponding gene of\n",
    "#parent1.\n",
    "# Computation of Contribution from Parent2:\n",
    "# You then take the gene value of parent2 at position x and multiply it by (1 - alpha). This is the remainder of the contribution not covered by parent1.\n",
    "#####!!!!!!!!If alpha is 0.8, for example, then parent2 contributes 0.2 (or 20%) to this particular gene of the offspring. (and the gene of parent 1\n",
    "#at that position contributes 0.8, so more)\n",
    "# Summing Contributions:\n",
    "# The contributions from both parents are summed to get the final gene value for the offspring at position x. This sum effectively mixes the genes of#\n",
    "#the two parents, with alpha deciding the balance of that mix.\n",
    "\n",
    "\n",
    "\n",
    "def crossover(parent1, parent2):\n",
    "    '''\n",
    "    crossover between 2 parents\n",
    "    '''\n",
    "    child=[]\n",
    "    alpha=random()  #This coefficient determines the weighting of the contribution from each parent to the offspring's genes.\n",
    "    for x in range(len(parent1)):\n",
    "        child.append(alpha*(parent1[x]-parent2[x])+parent2[x])\n",
    "    return child"
   ]
  },
  {
   "cell_type": "code",
   "execution_count": 26,
   "metadata": {},
   "outputs": [],
   "source": [
    "def iteration_bukin(pop, pM, vmin, vmax):\n",
    "    i1=randint(0,len(pop)-1) #chooses a parent from the population\n",
    "    i2=randint(0,len(pop)-1) #chooses the other parent\n",
    "    if (i1!=i2):\n",
    "        c=crossover(pop[i1],pop[i2])   #combines the genes of the parents\n",
    "        c=mutate_bukin(c, pM, vmin, vmax) #mutates the child\n",
    "        f1=fitness_bukin(pop[i1]) #\n",
    "        f2=fitness_bukin(pop[i2])\n",
    "        fc=fitness_bukin(c)\n",
    "        if(f1>f2) and (f1>fc): #the lower the fitness, the better, because we try to find the minimum, because that is the optimal solution when it comes\n",
    "            #to bukin fct. so if a parent has higher fitness than both the child and the other parent, it gets replaced by the child\n",
    "            pop[i1]=c\n",
    "        if(f2>f1) and (f2>fc):\n",
    "            pop[i2]=c\n",
    "    return pop"
   ]
  },
  {
   "cell_type": "code",
   "execution_count": 31,
   "metadata": {},
   "outputs": [
    {
     "name": "stdout",
     "output_type": "stream",
     "text": [
      "Result: The detected minimum point after 100000 iterations is f(-9.92, 0.98) = 0.00\n"
     ]
    }
   ],
   "source": [
    "def main(noIterations=100000):\n",
    "    # PARAMETERS:\n",
    "    \n",
    "    # population size\n",
    "    dimPopulation = 100\n",
    "    # individual size\n",
    "    dimIndividual = 2\n",
    "    # the mutation probability\n",
    "    pM = 0.01\n",
    "    # the boundaries of the search interval for x and y\n",
    "    vmin = [-15, -3]\n",
    "    vmax = [-5, 3]\n",
    "\n",
    "    P = population_bukin(dimPopulation, dimIndividual, vmin, vmax)\n",
    "\n",
    "    for _ in range(noIterations):\n",
    "        P = iteration_bukin(P, pM, vmin, vmax)\n",
    "\n",
    "    # Print the best individual\n",
    "    graded = [ (fitness_bukin(x), x) for x in P ] #this will be a tuple with the fitness of the individual, and the indivisual itself, who is represented\n",
    "    #by a lsit of genes\n",
    "    graded = sorted(graded) \n",
    "    result = graded[0] #has the lowest fitness so it is the best\n",
    "    fitnessOptim = result[0] #the best fitness\n",
    "    individualOptim = result[1] #the best individual with he best fitness. here are stored the 2 genes of the individual.\n",
    "    print(f'Result: The detected minimum point after {noIterations} iterations is f({individualOptim[0]:3.2f}, {individualOptim[1]:3.2f}) = {fitnessOptim:3.2f}')\n",
    "    #the bukin function's global minimum is 0, so the detected minimum point should be 0, for f(gene1, gene2), which should be in teh interval (-10,1)\n",
    "main()"
   ]
  },
  {
   "attachments": {},
   "cell_type": "markdown",
   "metadata": {},
   "source": [
    "Consider the knapsack problem:\n",
    "\n",
    "Consider a Knapsack with a total volum equal with $V_{max}$.\n",
    "\n",
    "There are $n$ objects, with values $(p_i)_{n}$ and volumes $(v_i)_n$.\n",
    "\n",
    "Solve this problem using a generationist Genetic Algorithm, with a binary representation.\n",
    "\n",
    "Exercise 2: Initialization\n",
    "Objective: Implement the initialization step of a genetic algorithm."
   ]
  },
  {
   "cell_type": "code",
   "execution_count": 32,
   "metadata": {},
   "outputs": [
    {
     "name": "stdout",
     "output_type": "stream",
     "text": [
      "[[0, 1, 0, 1, 0, 1, 0, 0], [1, 1, 1, 1, 1, 0, 1, 0], [0, 1, 1, 1, 0, 0, 0, 1], [0, 1, 1, 1, 0, 0, 1, 1], [1, 0, 0, 0, 1, 1, 0, 1], [0, 0, 0, 0, 0, 1, 1, 0], [1, 0, 0, 1, 0, 1, 1, 1], [1, 1, 1, 0, 0, 1, 1, 0], [1, 1, 0, 0, 0, 1, 1, 0], [0, 0, 1, 1, 0, 0, 0, 1]]\n"
     ]
    }
   ],
   "source": [
    "# In GAs with a binary representation, each individual (solution) in the population is represented as a string of binary digits (bits), where each bit\n",
    "# can be either 0 or 1. This type of representation is one of the most common and traditional ways to encode solutions in genetic algorithms. Each bit \n",
    "# in the string can represent a characteristic of the solution, and the entire string represents a complete solution to the problem. \n",
    "\n",
    "\n",
    "import random\n",
    "\n",
    "def initialize_population(population_size, chromosome_length):\n",
    "    # generate random a population with population_size number of individuals\n",
    "    # each individual with the size chromosome_length\n",
    "    # IN:  population_size, chromosome_length\n",
    "    # OUT: population\n",
    "    \n",
    "    # your code here\n",
    "     population = [ [ random.randint(0, 1) for _ in range(chromosome_length) ] for _ in range(population_size) ]\n",
    "     return population\n",
    "\n",
    "\n",
    "\n",
    "\n",
    "\n",
    "# Test the initialization step\n",
    "population_size = 10\n",
    "chromosome_length = 8   #fiecare individ din populatie are 8 gene, care au valaoarea 0 sau 1,1-e pusa gena in sac, 0-nu e pusa gena in sac\n",
    "population = initialize_population(population_size, chromosome_length)\n",
    "print(population)\n",
    "#the fittest individual: adunam valorile genelor lui care sunt setate la 1, pentru ca acelea sunt puse in sac. individual cu suma aceasta cea \n",
    "#mai mare e cel mai bun. knapsack problem: vrei ca in sac sa pui elemente care in total sa ocupe maxim volumul disponibil in sac, si care in total\n",
    "#sa aiba cea mai mare valoare pe care o poate avea o combinatie de aceste elemente\n"
   ]
  },
  {
   "attachments": {},
   "cell_type": "markdown",
   "metadata": {},
   "source": [
    "Exercise 3: Fitness Evaluation\n",
    "\n",
    "Objective: Implement the fitness evaluation step of a genetic algorithm."
   ]
  },
  {
   "cell_type": "code",
   "execution_count": 11,
   "metadata": {},
   "outputs": [
    {
     "name": "stdout",
     "output_type": "stream",
     "text": [
      "[0, 0, 0, 0, 0, 0, 0, 0, 90, 125]\n"
     ]
    }
   ],
   "source": [
    "def evaluate_fitness(population, values, volumes, Vmax):\n",
    "    # Evaluate the fitness of each individual in the population.\n",
    "    # IN:  population\n",
    "    # OUT: fitness_scores\n",
    "    \n",
    "    fitness_scores = []\n",
    "    \n",
    "    for individual in population:\n",
    "        value = sum([ ind*val for ind, val in zip(individual, values) ])\n",
    "        volume = sum([ ind*vol for ind, vol in zip(individual, volumes) ])\n",
    "        \n",
    "        # If the total volume of the individual exceeds the maximum volume, \n",
    "        # then assign a low fitness score.\n",
    "        if volume > Vmax:\n",
    "            fitness_scores.append(0)\n",
    "        else:\n",
    "            fitness_scores.append(value)\n",
    "    \n",
    "    return fitness_scores\n",
    "\n",
    "# Test the fitness evaluation step\n",
    "values = [10, 15, 20, 40, 60, 75, 85, 50] # example values  \n",
    "volumes = [5, 10, 15, 30, 45, 60, 70, 50] # example volumes\n",
    "\n",
    "#so the first gene, on position 0, has value=10 and volume=5. we need the combination of genes that will occupy max the vmax=100, and the sum of their \n",
    "#values will be the highest. each individual is a solution to the knapsack problem. each gene is an object with a value and a weight that is put\n",
    "#or is not put in the knapsack. we need to pick the best sol for the problem, which is the individual witht he highest sum of values of put genes.\n",
    "Vmax = 100 # maximum volume\n",
    "\n",
    "fitness_scores = evaluate_fitness(population, values, volumes, Vmax)\n",
    "print(fitness_scores)\n"
   ]
  },
  {
   "attachments": {},
   "cell_type": "markdown",
   "metadata": {},
   "source": [
    "Exercise 4: Selection\n",
    "\n",
    "Objective: Implement the selection step of a genetic algorithm."
   ]
  },
  {
   "cell_type": "code",
   "execution_count": 34,
   "metadata": {},
   "outputs": [
    {
     "name": "stdout",
     "output_type": "stream",
     "text": [
      "[[1, 1, 0, 0, 0, 1, 1, 0], [0, 0, 1, 1, 0, 0, 0, 1]]\n"
     ]
    }
   ],
   "source": [
    "def select_parents(population, fitness_scores):\n",
    "    # Select two parents from the population based on the fitness - \n",
    "    # the better the fitness, the higher the chance to be selected.\n",
    "    # IN:  population, fitness_scores\n",
    "    # OUT: selected_parents\n",
    "    \n",
    "    # Calculate the total fitness of the population\n",
    "    total_fitness = sum(fitness_scores) #fitness_scores is a list of the score of each individual in the pop\n",
    "    \n",
    "    selection_probabilities = [score/total_fitness for score in fitness_scores]\n",
    "\n",
    "    parents = random.choices(population, weights=selection_probabilities, k=2)\n",
    "                            #k-nr of elems to be chosen\n",
    "    return parents\n",
    "\n",
    "# Test the selection step\n",
    "parents = select_parents(population, fitness_scores)\n",
    "print(parents)"
   ]
  },
  {
   "attachments": {},
   "cell_type": "markdown",
   "metadata": {},
   "source": [
    "Exercise 5: Crossover\n",
    "\n",
    "Objective: Implement the crossover step of a genetic algorithm."
   ]
  },
  {
   "cell_type": "code",
   "execution_count": 13,
   "metadata": {},
   "outputs": [
    {
     "name": "stdout",
     "output_type": "stream",
     "text": [
      "([1, 0, 1, 0, 0, 1, 0, 0], [1, 0, 0, 1, 1, 0, 0, 0])\n"
     ]
    }
   ],
   "source": [
    "def crossover(parents):\n",
    "    # Create two new offspring by combining the parents.\n",
    "    # IN:  parents\n",
    "    # OUT: offspring\n",
    "    \n",
    "    # Determine the single crossover point\n",
    "    crossover_point = random.randint(1, len(parents[0])-1)\n",
    "    \n",
    "    # Create two offspring via crossover.\n",
    "    offspring1 = parents[0][:crossover_point] + parents[1][crossover_point:] #we take the first cp genes from the first parent and the last 8-cp genes\n",
    "    #from the second parent\n",
    "    offspring2 = parents[1][:crossover_point] + parents[0][crossover_point:]\n",
    "    \n",
    "    return offspring1, offspring2\n",
    "\n",
    "# Test the crossover step\n",
    "offsprings = crossover(parents)\n",
    "print(offsprings)"
   ]
  },
  {
   "attachments": {},
   "cell_type": "markdown",
   "metadata": {},
   "source": [
    "Exercise 6: Mutation\n",
    "\n",
    "Objective: Implement the mutation step of a genetic algorithm."
   ]
  },
  {
   "cell_type": "code",
   "execution_count": 14,
   "metadata": {},
   "outputs": [
    {
     "name": "stdout",
     "output_type": "stream",
     "text": [
      "[[1, 0, 1, 0, 0, 1, 0, 0], [1, 0, 0, 1, 1, 0, 1, 0]]\n"
     ]
    }
   ],
   "source": [
    "def mutate(chromosome, mutation_rate):\n",
    "    # Mutate the chromosome by randomly flipping bits.\n",
    "    # IN:  chromosome, mutation_rate\n",
    "    # OUT: mutated_chromosome\n",
    "    \n",
    "    mutated_chromosome = []\n",
    "    for gene in chromosome:\n",
    "        if random.random() < mutation_rate:\n",
    "            # Flip the bit\n",
    "            mutated_chromosome.append(1 - gene)\n",
    "        else:\n",
    "            mutated_chromosome.append(gene)\n",
    "    \n",
    "    return mutated_chromosome\n",
    "\n",
    "# Test the mutation step\n",
    "mutation_rate = 0.1\n",
    "mutated_offspring = [ mutate(child, mutation_rate) for child in offspring ]\n",
    "print(mutated_offspring)"
   ]
  },
  {
   "attachments": {},
   "cell_type": "markdown",
   "metadata": {},
   "source": [
    "Exercise 7: Complete Genetic Algorithm\n",
    "\n",
    "Objective: Combine all the steps of a genetic algorithm to solve a specific problem."
   ]
  },
  {
   "cell_type": "code",
   "execution_count": 35,
   "metadata": {},
   "outputs": [
    {
     "ename": "TypeError",
     "evalue": "crossover() missing 1 required positional argument: 'parent2'",
     "output_type": "error",
     "traceback": [
      "\u001b[1;31m---------------------------------------------------------------------------\u001b[0m",
      "\u001b[1;31mTypeError\u001b[0m                                 Traceback (most recent call last)",
      "Cell \u001b[1;32mIn[35], line 38\u001b[0m\n\u001b[0;32m     35\u001b[0m generations \u001b[38;5;241m=\u001b[39m \u001b[38;5;241m10\u001b[39m\n\u001b[0;32m     36\u001b[0m mutation_rate \u001b[38;5;241m=\u001b[39m \u001b[38;5;241m0.1\u001b[39m\n\u001b[1;32m---> 38\u001b[0m final_population \u001b[38;5;241m=\u001b[39m genetic_algorithm(population_size, chromosome_length, generations, mutation_rate, values, volumes, Vmax)\n\u001b[0;32m     39\u001b[0m \u001b[38;5;28mprint\u001b[39m(final_population)\n",
      "Cell \u001b[1;32mIn[35], line 20\u001b[0m, in \u001b[0;36mgenetic_algorithm\u001b[1;34m(population_size, chromosome_length, generations, mutation_rate, values, volumes, Vmax)\u001b[0m\n\u001b[0;32m     17\u001b[0m parents \u001b[38;5;241m=\u001b[39m select_parents(population, fitness_scores)\n\u001b[0;32m     19\u001b[0m \u001b[38;5;66;03m# Crossover\u001b[39;00m\n\u001b[1;32m---> 20\u001b[0m offspring \u001b[38;5;241m=\u001b[39m crossover(parents)\n\u001b[0;32m     22\u001b[0m \u001b[38;5;66;03m# Mutation\u001b[39;00m\n\u001b[0;32m     23\u001b[0m mutated_offspring \u001b[38;5;241m=\u001b[39m [ mutate(child, mutation_rate) \u001b[38;5;28;01mfor\u001b[39;00m child \u001b[38;5;129;01min\u001b[39;00m offspring ]\n",
      "\u001b[1;31mTypeError\u001b[0m: crossover() missing 1 required positional argument: 'parent2'"
     ]
    }
   ],
   "source": [
    "def genetic_algorithm(population_size, chromosome_length, generations, mutation_rate, values, volumes, Vmax):\n",
    "    # Complete genetic algorithm\n",
    "    # IN:  population_size, chromosome_length, generations, mutation_rate\n",
    "    # OUT: population\n",
    "\n",
    "    # Initialize the population\n",
    "    population = initialize_population(population_size, chromosome_length)\n",
    "\n",
    "    for _ in range(generations):\n",
    "        # Fitness evaluation\n",
    "        fitness_scores = evaluate_fitness(population, values, volumes, Vmax)\n",
    "\n",
    "        new_population = []\n",
    "\n",
    "        for _ in range(population_size // 2):\n",
    "            # Selection\n",
    "            parents = select_parents(population, fitness_scores)\n",
    "\n",
    "            # Crossover\n",
    "            offspring = crossover(parents)\n",
    "\n",
    "            # Mutation\n",
    "            mutated_offspring = [ mutate(child, mutation_rate) for child in offspring ]\n",
    "\n",
    "            new_population.extend(mutated_offspring)\n",
    "\n",
    "        # Replace the population with the new generation\n",
    "        population = new_population\n",
    "\n",
    "    return population\n",
    "\n",
    "# Test the complete genetic algorithm\n",
    "population_size = 10\n",
    "chromosome_length = 8\n",
    "generations = 10\n",
    "mutation_rate = 0.1\n",
    "\n",
    "final_population = genetic_algorithm(population_size, chromosome_length, generations, mutation_rate, values, volumes, Vmax)\n",
    "print(final_population)"
   ]
  },
  {
   "attachments": {},
   "cell_type": "markdown",
   "metadata": {},
   "source": [
    "Exercise 8: Extract the result from the final population\n",
    "\n",
    "Objective: Get the best individual from the final population.\n"
   ]
  },
  {
   "cell_type": "code",
   "execution_count": 16,
   "metadata": {},
   "outputs": [
    {
     "name": "stdout",
     "output_type": "stream",
     "text": [
      "Evaluating fitness for: [0, 0, 0, 1, 0, 0, 0, 0]\n",
      "Evaluating fitness for: [1, 1, 0, 0, 1, 0, 0, 1]\n",
      "Evaluating fitness for: [1, 0, 0, 1, 1, 0, 0, 0]\n",
      "Evaluating fitness for: [1, 0, 0, 1, 1, 0, 0, 0]\n",
      "Evaluating fitness for: [0, 1, 0, 1, 0, 0, 0, 0]\n",
      "Evaluating fitness for: [1, 0, 1, 1, 1, 0, 0, 0]\n",
      "Evaluating fitness for: [0, 1, 1, 1, 1, 0, 0, 0]\n",
      "Evaluating fitness for: [1, 1, 0, 1, 1, 0, 0, 1]\n",
      "Evaluating fitness for: [0, 1, 0, 1, 1, 0, 0, 0]\n",
      "Evaluating fitness for: [0, 1, 0, 1, 1, 0, 0, 0]\n",
      "The best individual is [0, 0, 0, 1, 0, 0, 0, 0] with a fitness of 40.\n"
     ]
    }
   ],
   "source": [
    "# determine the best individual from the final population and print it out\n",
    "\n",
    "# your code here\n",
    "def evaluate_individual(individual, values, volumes, Vmax, penalty_factor=0.1):\n",
    "    \"\"\"\n",
    "    Evaluate the fitness of an individual. The penalty_factor parameter is by default chosen as 0.1.\n",
    "    \"\"\"\n",
    "    value = sum([ ind*val for ind, val in zip(individual, values) ])\n",
    "    volume = sum([ ind*vol for ind, vol in zip(individual, volumes) ])\n",
    "\n",
    "    if volume > Vmax:\n",
    "        return value - (volume - Vmax) * penalty_factor\n",
    "    else:\n",
    "        return value\n",
    "\n",
    "\n",
    "def get_best_individual(population):\n",
    "    # Get the best individual from the population\n",
    "    # IN:  population\n",
    "    # OUT: best_individual, best_fitness\n",
    "\n",
    "    best_fitness = float('inf')  # Assuming it's a minimization problem\n",
    "    best_individual = None\n",
    "\n",
    "    for individual in population:\n",
    "        print(f\"Evaluating fitness for: {individual}\")  # Add this\n",
    "        fitness = evaluate_individual(individual, values, volumes, Vmax)\n",
    "        if fitness < best_fitness:\n",
    "            best_fitness = fitness\n",
    "            best_individual = individual\n",
    "\n",
    "    return best_individual, best_fitness\n",
    "\n",
    "# Get the best individual from the final population\n",
    "best_individual, best_fitness = get_best_individual(final_population)\n",
    "print(f\"The best individual is {best_individual} with a fitness of {best_fitness}.\")\n",
    "\n"
   ]
  }
 ],
 "metadata": {
  "kernel_info": {
   "name": "python"
  },
  "kernelspec": {
   "display_name": "Python 3 (ipykernel)",
   "language": "python",
   "name": "python3"
  },
  "language_info": {
   "codemirror_mode": {
    "name": "ipython",
    "version": 3
   },
   "file_extension": ".py",
   "mimetype": "text/x-python",
   "name": "python",
   "nbconvert_exporter": "python",
   "pygments_lexer": "ipython3",
   "version": "3.11.5"
  },
  "nteract": {
   "version": "nteract-front-end@1.0.0"
  }
 },
 "nbformat": 4,
 "nbformat_minor": 4
}
