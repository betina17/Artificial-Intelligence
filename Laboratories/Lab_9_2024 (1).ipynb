{
  "cells": [
    {
      "attachments": {},
      "cell_type": "markdown",
      "source": [
        "## Lab. 12\n",
        "\n",
        "### Solve the following problem using Genetic Algorithms:\n",
        "\n",
        "\n",
        "Problem: Weighted N-Queen Problem\n",
        "\n",
        "\n",
        "You are given an N×N chessboard, and each cell of the board has an associated weight. Your task is to find a valid placement of N queens such that the total weight of the queens is maximized, and no two queens threaten each other.\n",
        "\n"
      ],
      "metadata": {}
    },
    {
      "attachments": {},
      "cell_type": "markdown",
      "source": [
        "\n",
        "\n",
        "In the traditional N-Queen Problem, the goal is to place N queens on an N×N chessboard in such a way that no two queens threaten each other. In this variation, we introduce weights to the queens and aim to find a placement that maximizes the total weight of the queens while satisfying the constraint of non-threatening positions.\n",
        "\n",
        "\n",
        "Constraints:\n",
        "\n",
        "1. There should be exactly one queen in each row and each column.\n",
        "2. No two queens should be placed in the same diagonal, i.e., they should not threaten each other.\n",
        "3. The placement should maximize the total weight of the queens.\n",
        "\n",
        "\n",
        "Representation:\n",
        "\n",
        "Use a permutation-based representation. Each permutation represents the column position of the queen for each row. \n",
        "\n",
        "For example, if N=4, a valid permutation [2, 4, 1, 3] indicates that the queen in the first row is placed in column 2, the queen in the second row is placed in column 4, and so on.\n",
        "\n",
        "\n",
        "Genetic Algorithm Steps:\n",
        "\n",
        "1. *Initialization*: Generate an initial population of permutations randomly.\n",
        "\n",
        "2. *Fitness Evaluation*: Evaluate the fitness of each permutation by calculating the total weight of the queens while considering the non-threatening positions.\n",
        "\n",
        "3. *Selection*: Select a subset of permutations from the population based on their fitness, using selection techniques like tournament selection or roulette wheel selection.\n",
        "\n",
        "4. *Crossover*: Perform crossover (recombination) on the selected permutations to create new offspring permutations.\n",
        "\n",
        "5. *Mutation*: Introduce random changes (mutations) in the offspring permutations to maintain diversity in the population.\n",
        "\n",
        "6. *Fitness Evaluation for the new individuals*: Evaluate the fitness of the new population.\n",
        "\n",
        "7. *Form the new population*: Select the surviving individuals based on scores, with chances direct proportional with their performance.\n",
        "\n",
        "8. Repeat steps 3-7 for a certain number of generations or until a termination condition is met (e.g., a maximum number of iterations or a satisfactory solution is found).\n",
        "\n",
        "\n",
        "9. *Termination*: Return the best-performing individual (permutation) found as the solution to the problem.\n",
        "\n",
        "Note: The fitness function used in this problem should calculate the total weight of the queens based on the positions specified by the permutation. Additionally, the fitness function should penalize solutions that violate the non-threatening constraint by assigning a lower fitness score to such permutations."
      ],
      "metadata": {}
    },
    {
      "cell_type": "code",
      "source": [
        "# Step 1 - Initialization\n",
        "import random\n",
        "\n",
        "def initialize_population(population_size, chromosome_length):\n",
        "    population = []\n",
        "    for i in range(population_size):\n",
        "        individual = list(range(0, chromosome_length))\n",
        "        random.shuffle(individual)\n",
        "        population.append(individual)\n",
        "\n",
        "    return population\n",
        "\n",
        "N = 4\n",
        "population_size = 10\n",
        "pop = initialize_population(population_size, N)\n",
        "for ind in pop:\n",
        "    print(ind)"
      ],
      "outputs": [
        {
          "output_type": "stream",
          "name": "stdout",
          "text": "[1, 2, 0, 3]\n[3, 1, 0, 2]\n[1, 2, 0, 3]\n[1, 2, 0, 3]\n[2, 3, 1, 0]\n[0, 2, 3, 1]\n[3, 1, 2, 0]\n[1, 3, 0, 2]\n[0, 2, 1, 3]\n[1, 0, 2, 3]\n"
        }
      ],
      "execution_count": 20,
      "metadata": {}
    },
    {
      "cell_type": "code",
      "source": [
        "def generate_board(board_size, min_value, max_value):\n",
        "    board = []\n",
        "    for i in range(board_size):\n",
        "        row = []\n",
        "        for j in range(board_size):\n",
        "            row.append(random.randint(min_value, max_value))\n",
        "        board.append(row)\n",
        "\n",
        "    return board"
      ],
      "outputs": [],
      "execution_count": 21,
      "metadata": {}
    },
    {
      "cell_type": "code",
      "source": [
        "# Step 2 - Fitness Evaluation\n",
        "def fitness_score(individual, board, penalty_score):\n",
        "    penalty = 0\n",
        "    for i in range(len(individual)):\n",
        "        for j in range(i + 1, len(individual)):\n",
        "            if i - individual[i] == j - individual[j] or i + individual[i] == j + individual[j]: #verificam daca sunt pe aceeasi diagonala, luam in considerare\n",
        "                #ambele diagonale, principala. daca sunt pe aceeasi, aplicam penalty. fiecare solutie (permutare) are un scor de penalitate \n",
        "                penalty -= penalty_score\n",
        "\n",
        "    if penalty < 0:\n",
        "        return penalty  #daca o sol are penalitate, returnam penalitatea, pentru ca reginele se pot ataca, si practic e cumva sansa sa se atace oricare \n",
        "                        #din ele\n",
        "\n",
        "    score = 0\n",
        "    for i in range(len(individual)):\n",
        "        score += board[i][individual[i]]   #scorul \n",
        "\n",
        "    return score\n",
        "\n",
        "def all_fitness_scores(population, board, penalty_score):\n",
        "    scores = []\n",
        "    for individual in population:  \n",
        "        scores.append(fitness_score(individual, board, penalty_score))\n",
        "    return scores\n",
        "\n",
        "board = generate_board(N, 10, 100) #initialize board with weights\n",
        "for row in board:\n",
        "    print(row)  #print the weights of each psoition of the board\n",
        "print()\n",
        "penalty_score = 10  #penalizam \n",
        "f_scores = all_fitness_scores(pop, board, penalty_score)\n",
        "print(f_scores)  #print score of each permutation (sol in pop)"
      ],
      "outputs": [
        {
          "output_type": "stream",
          "name": "stdout",
          "text": "[60, 39, 23, 99]\n[16, 47, 60, 54]\n[56, 20, 82, 22]\n[98, 34, 17, 76]\n\n[-10, -10, -10, -10, -20, -10, -20, 166, -20, -20]\n"
        }
      ],
      "execution_count": 22,
      "metadata": {}
    },
    {
      "cell_type": "code",
      "source": [
        "# Step 3 - Selection\n",
        "import numpy as np\n",
        "\n",
        "def roulette_wheel_selection(population, f_scores, selection_size):\n",
        "    min_score = min(f_scores)\n",
        "    positive_scores = []\n",
        "    for score in f_scores:\n",
        "        positive_scores.append(score - min_score + 1)  #transform all scores into positive ones so that we can use them to compute probabilities\n",
        "\n",
        "    total_score = sum(positive_scores)\n",
        "    probabilities = [score / total_score for score in positive_scores]\n",
        "\n",
        "    indices = list(range(len(population)))\n",
        "    selected_elements = np.random.choice(indices, size=selection_size, replace=False, p=probabilities) #select parents according to probabilities \n",
        "                                                                #that are based on each individual's fitness score\n",
        "    #this returns tuple with the two positions of the two parents in the population\n",
        "    return selected_elements[0], selected_elements[1]\n",
        "\n",
        "parent_indices = roulette_wheel_selection(pop, f_scores, 2)\n",
        "print(parent_indices)  #parent indices is a tuple with the indexes of the chosen parents from the list of individuals in pop"
      ],
      "outputs": [
        {
          "output_type": "stream",
          "name": "stdout",
          "text": "(5, 1)\n"
        }
      ],
      "execution_count": 14,
      "metadata": {}
    },
    {
      "cell_type": "code",
      "source": [
        "# Step 4 - Crossover\n",
        "def crossover(population, parent_indices):\n",
        "    parent_1 = population[parent_indices[0]]\n",
        "    parent_2 = population[parent_indices[1]]\n",
        "\n",
        "    left = random.randint(0, len(parent_1) - 1)\n",
        "    right = random.randint(0, len(parent_1) - 1)\n",
        "    if left > right:\n",
        "        aux = left\n",
        "        left = right\n",
        "        right = aux\n",
        "\n",
        "    offspring = []\n",
        "    for i in range(left, right + 1):\n",
        "        offspring.append(parent_1[i])\n",
        "\n",
        "    for element in parent_2:\n",
        "        if element in offspring:\n",
        "            continue\n",
        "        else:\n",
        "            offspring.append(element)\n",
        "\n",
        "    return offspring\n",
        "\n",
        "print(crossover(pop, parent_indices))"
      ],
      "outputs": [
        {
          "output_type": "stream",
          "name": "stdout",
          "text": "[3, 2, 1, 0]\n"
        }
      ],
      "execution_count": 15,
      "metadata": {}
    },
    {
      "cell_type": "code",
      "source": [
        "# Step 5 - Mutation\n",
        "def swap_mutation(individual):\n",
        "    if random.random() <= 0.1:\n",
        "        i = random.randint(0, len(individual) - 1)\n",
        "        j = random.randint(0, len(individual) - 1)\n",
        "\n",
        "        aux = individual[i]\n",
        "        individual[i] = individual[j]\n",
        "        individual[j] = aux\n",
        "\n",
        "    return individual\n",
        "\n",
        "print(swap_mutation([2, 3, 0, 1]))"
      ],
      "outputs": [
        {
          "output_type": "stream",
          "name": "stdout",
          "text": "[2, 3, 0, 1]\n"
        }
      ],
      "execution_count": 16,
      "metadata": {}
    },
    {
      "cell_type": "code",
      "source": [
        "# Step 6 - Replace parent with offspring\n",
        "def replace(population, parent_indices, parent_scores, offspring, offspring_score):\n",
        "    if parent_scores[0] < parent_scores[1] and offspring_score > parent_scores[0]:\n",
        "        population[parent_indices[0]] = offspring\n",
        "    elif parent_scores[1] < parent_scores[0] and offspring_score > parent_scores[1]:\n",
        "        population[parent_indices[1]] = offspring\n",
        "    return population"
      ],
      "outputs": [],
      "execution_count": 17,
      "metadata": {}
    },
    {
      "cell_type": "code",
      "source": [
        "# Step 7 - Repeat for multiple generations\n",
        "def evolution(generations, population_size, chromosome_length, board, penalty_score):\n",
        "    population = initialize_population(population_size, chromosome_length)\n",
        "\n",
        "    for i in range(generations):\n",
        "        f_scores = all_fitness_scores(population, board, penalty_score)   #compute score for each individual in population(each permutation)\n",
        "\n",
        "        parent_indices = roulette_wheel_selection(population, f_scores, 2)  \n",
        "        parent_scores = [f_scores[p] for p in parent_indices]\n",
        "\n",
        "        offspring = crossover(population, parent_indices)\n",
        "        offspring = swap_mutation(offspring)\n",
        "        offspring_score = fitness_score(offspring, board, penalty_score)\n",
        "\n",
        "        population = replace(population, parent_indices, parent_scores, offspring, offspring_score)\n",
        "\n",
        "    return population"
      ],
      "outputs": [],
      "execution_count": 18,
      "metadata": {}
    },
    {
      "cell_type": "code",
      "source": [
        "# Final Step - Solve the problem\n",
        "if __name__ == '__main__':\n",
        "    N = 4\n",
        "    board = generate_board(N, 10, 99)\n",
        "    for row in board:\n",
        "        print(row)\n",
        "    print()\n",
        "\n",
        "    generations = 100\n",
        "    population_size = 10\n",
        "    penalty_score = 10\n",
        "    solutions = evolution(generations, population_size, N, board, penalty_score)\n",
        "    scores = all_fitness_scores(solutions, board, penalty_score)\n",
        "\n",
        "    best = 0\n",
        "    for i in range(len(solutions)):\n",
        "        if scores[i] > scores[best]:\n",
        "            best = i\n",
        "\n",
        "    print(f'Best solution: {solutions[best]} having score {scores[best]}')"
      ],
      "outputs": [
        {
          "output_type": "stream",
          "name": "stdout",
          "text": "[57, 98, 85, 29]\n[41, 11, 75, 76]\n[19, 44, 77, 26]\n[93, 85, 43, 26]\n\nBest solution: [1, 3, 0, 2] having score 236\n"
        }
      ],
      "execution_count": 19,
      "metadata": {}
    },
    {
      "cell_type": "code",
      "source": [],
      "outputs": [],
      "execution_count": null,
      "metadata": {}
    }
  ],
  "metadata": {
    "kernel_info": {
      "name": "python"
    },
    "kernelspec": {
      "display_name": "Python 3 (ipykernel)",
      "language": "python",
      "name": "python3"
    },
    "language_info": {
      "codemirror_mode": {
        "name": "ipython",
        "version": 3
      },
      "file_extension": ".py",
      "mimetype": "text/x-python",
      "name": "python",
      "nbconvert_exporter": "python",
      "pygments_lexer": "ipython3",
      "version": "3.11.5"
    },
    "nteract": {
      "version": "nteract-front-end@1.0.0"
    }
  },
  "nbformat": 4,
  "nbformat_minor": 4
}